{
 "cells": [
  {
   "cell_type": "markdown",
   "id": "9229ce4a",
   "metadata": {},
   "source": [
    "## Imports"
   ]
  },
  {
   "cell_type": "code",
   "execution_count": 1,
   "id": "e4b55641",
   "metadata": {},
   "outputs": [],
   "source": [
    "import pandas as pd\n",
    "import seaborn as sns\n",
    "import numpy as np\n",
    "from numpy import save, load\n",
    "\n",
    "import librosa\n",
    "import IPython.display\n",
    "\n",
    "from tqdm.notebook import tqdm"
   ]
  },
  {
   "cell_type": "code",
   "execution_count": 9,
   "id": "8ad570da",
   "metadata": {},
   "outputs": [],
   "source": [
    "from sklearn.model_selection import RandomizedSearchCV\n",
    "\n",
    "import xgboost as xgb\n",
    "from xgboost import XGBRegressor\n",
    "\n",
    "from sklearn.model_selection import train_test_split\n",
    "from sklearn.metrics import confusion_matrix\n",
    "from sklearn.metrics import plot_confusion_matrix"
   ]
  },
  {
   "cell_type": "markdown",
   "id": "6aca8bd0",
   "metadata": {},
   "source": [
    "## Read Dataset"
   ]
  },
  {
   "cell_type": "code",
   "execution_count": 5,
   "id": "f43e8dee",
   "metadata": {},
   "outputs": [],
   "source": [
    "X = load('numpy_data/feature.npy')\n",
    "y = load('numpy_data/y_age.npy')"
   ]
  },
  {
   "cell_type": "code",
   "execution_count": 6,
   "id": "84758c6f",
   "metadata": {},
   "outputs": [
    {
     "data": {
      "text/plain": [
       "((4524, 1, 5603), (4524,))"
      ]
     },
     "execution_count": 6,
     "metadata": {},
     "output_type": "execute_result"
    }
   ],
   "source": [
    "X.shape, y.shape"
   ]
  },
  {
   "cell_type": "code",
   "execution_count": 7,
   "id": "51424431",
   "metadata": {},
   "outputs": [],
   "source": [
    "input_size = 13*431\n",
    "X = X.reshape(4524, input_size)"
   ]
  },
  {
   "cell_type": "markdown",
   "id": "ba585dad",
   "metadata": {},
   "source": [
    "## Split Dataset"
   ]
  },
  {
   "cell_type": "code",
   "execution_count": 8,
   "id": "1d334d79",
   "metadata": {},
   "outputs": [],
   "source": [
    "Xtrain, Xtest, ytrain, ytest = train_test_split(X, y, random_state=42, stratify=y)"
   ]
  },
  {
   "cell_type": "markdown",
   "id": "23de52c8",
   "metadata": {},
   "source": [
    "## Regressor Model"
   ]
  },
  {
   "cell_type": "code",
   "execution_count": 16,
   "id": "1d0256e0",
   "metadata": {},
   "outputs": [],
   "source": [
    "regressor = XGBRegressor(base_score=0.5, booster='gbtree', colsample_bylevel=1,\n",
    "             colsample_bynode=1, colsample_bytree=0.3, gamma=0.3,\n",
    "             importance_type='gain', learning_rate=0.05, max_delta_step=0,\n",
    "             max_depth=12, min_child_weight=7, n_estimators=100,\n",
    "             n_jobs=1, nthread=None, objective='reg:linear', random_state=0,\n",
    "             reg_alpha=0, reg_lambda=1, scale_pos_weight=1, seed=42,\n",
    "             silent=None, subsample=1, verbosity=0)"
   ]
  },
  {
   "cell_type": "code",
   "execution_count": 17,
   "id": "6885dc3d",
   "metadata": {
    "collapsed": true
   },
   "outputs": [
    {
     "name": "stdout",
     "output_type": "stream",
     "text": [
      "[0]\tvalidation_0-mae:50.26297\n",
      "[1]\tvalidation_0-mae:47.82002\n",
      "[2]\tvalidation_0-mae:45.50108\n",
      "[3]\tvalidation_0-mae:43.29748\n",
      "[4]\tvalidation_0-mae:41.24695\n",
      "[5]\tvalidation_0-mae:39.28884\n",
      "[6]\tvalidation_0-mae:37.40880\n",
      "[7]\tvalidation_0-mae:35.61849\n",
      "[8]\tvalidation_0-mae:33.93438\n",
      "[9]\tvalidation_0-mae:32.33742\n",
      "[10]\tvalidation_0-mae:30.82245\n",
      "[11]\tvalidation_0-mae:29.38681\n",
      "[12]\tvalidation_0-mae:28.02924\n",
      "[13]\tvalidation_0-mae:26.75335\n",
      "[14]\tvalidation_0-mae:25.60268\n",
      "[15]\tvalidation_0-mae:24.49314\n",
      "[16]\tvalidation_0-mae:23.44136\n",
      "[17]\tvalidation_0-mae:22.47683\n",
      "[18]\tvalidation_0-mae:21.60918\n",
      "[19]\tvalidation_0-mae:20.78736\n",
      "[20]\tvalidation_0-mae:20.02108\n",
      "[21]\tvalidation_0-mae:19.33820\n",
      "[22]\tvalidation_0-mae:18.65720\n",
      "[23]\tvalidation_0-mae:18.05684\n",
      "[24]\tvalidation_0-mae:17.49698\n",
      "[25]\tvalidation_0-mae:16.97542\n",
      "[26]\tvalidation_0-mae:16.50601\n",
      "[27]\tvalidation_0-mae:16.05544\n",
      "[28]\tvalidation_0-mae:15.65171\n",
      "[29]\tvalidation_0-mae:15.26558\n",
      "[30]\tvalidation_0-mae:14.93124\n",
      "[31]\tvalidation_0-mae:14.59938\n",
      "[32]\tvalidation_0-mae:14.30084\n",
      "[33]\tvalidation_0-mae:14.03290\n",
      "[34]\tvalidation_0-mae:13.77171\n",
      "[35]\tvalidation_0-mae:13.54857\n",
      "[36]\tvalidation_0-mae:13.31758\n",
      "[37]\tvalidation_0-mae:13.13288\n",
      "[38]\tvalidation_0-mae:12.96063\n",
      "[39]\tvalidation_0-mae:12.81107\n",
      "[40]\tvalidation_0-mae:12.67641\n",
      "[41]\tvalidation_0-mae:12.54661\n",
      "[42]\tvalidation_0-mae:12.44213\n",
      "[43]\tvalidation_0-mae:12.34719\n",
      "[44]\tvalidation_0-mae:12.26721\n",
      "[45]\tvalidation_0-mae:12.18740\n",
      "[46]\tvalidation_0-mae:12.11547\n",
      "[47]\tvalidation_0-mae:12.05598\n",
      "[48]\tvalidation_0-mae:11.99759\n",
      "[49]\tvalidation_0-mae:11.94640\n",
      "[50]\tvalidation_0-mae:11.89481\n",
      "[51]\tvalidation_0-mae:11.84273\n",
      "[52]\tvalidation_0-mae:11.80401\n",
      "[53]\tvalidation_0-mae:11.75848\n",
      "[54]\tvalidation_0-mae:11.72025\n",
      "[55]\tvalidation_0-mae:11.68484\n",
      "[56]\tvalidation_0-mae:11.66436\n",
      "[57]\tvalidation_0-mae:11.63801\n",
      "[58]\tvalidation_0-mae:11.61304\n",
      "[59]\tvalidation_0-mae:11.58635\n",
      "[60]\tvalidation_0-mae:11.56112\n",
      "[61]\tvalidation_0-mae:11.54292\n",
      "[62]\tvalidation_0-mae:11.52549\n",
      "[63]\tvalidation_0-mae:11.50981\n",
      "[64]\tvalidation_0-mae:11.49624\n",
      "[65]\tvalidation_0-mae:11.48295\n",
      "[66]\tvalidation_0-mae:11.47513\n",
      "[67]\tvalidation_0-mae:11.46414\n",
      "[68]\tvalidation_0-mae:11.45514\n",
      "[69]\tvalidation_0-mae:11.44416\n",
      "[70]\tvalidation_0-mae:11.43741\n",
      "[71]\tvalidation_0-mae:11.43160\n",
      "[72]\tvalidation_0-mae:11.42457\n",
      "[73]\tvalidation_0-mae:11.41552\n",
      "[74]\tvalidation_0-mae:11.40801\n",
      "[75]\tvalidation_0-mae:11.40333\n",
      "[76]\tvalidation_0-mae:11.39953\n",
      "[77]\tvalidation_0-mae:11.39356\n",
      "[78]\tvalidation_0-mae:11.39132\n",
      "[79]\tvalidation_0-mae:11.38784\n",
      "[80]\tvalidation_0-mae:11.38608\n",
      "[81]\tvalidation_0-mae:11.38336\n",
      "[82]\tvalidation_0-mae:11.37879\n",
      "[83]\tvalidation_0-mae:11.37640\n",
      "[84]\tvalidation_0-mae:11.37375\n",
      "[85]\tvalidation_0-mae:11.37318\n",
      "[86]\tvalidation_0-mae:11.36849\n",
      "[87]\tvalidation_0-mae:11.36571\n",
      "[88]\tvalidation_0-mae:11.36437\n",
      "[89]\tvalidation_0-mae:11.36342\n",
      "[90]\tvalidation_0-mae:11.36117\n",
      "[91]\tvalidation_0-mae:11.36052\n",
      "[92]\tvalidation_0-mae:11.35950\n",
      "[93]\tvalidation_0-mae:11.35728\n",
      "[94]\tvalidation_0-mae:11.35566\n",
      "[95]\tvalidation_0-mae:11.35419\n",
      "[96]\tvalidation_0-mae:11.35315\n",
      "[97]\tvalidation_0-mae:11.35277\n",
      "[98]\tvalidation_0-mae:11.35197\n",
      "[99]\tvalidation_0-mae:11.35082\n"
     ]
    },
    {
     "data": {
      "text/plain": [
       "XGBRegressor(base_score=0.5, booster='gbtree', colsample_bylevel=1,\n",
       "             colsample_bynode=1, colsample_bytree=0.3, gamma=0.3, gpu_id=-1,\n",
       "             importance_type='gain', interaction_constraints='',\n",
       "             learning_rate=0.05, max_delta_step=0, max_depth=12,\n",
       "             min_child_weight=7, missing=nan, monotone_constraints='()',\n",
       "             n_estimators=100, n_jobs=1, nthread=1, num_parallel_tree=1,\n",
       "             objective='reg:linear', random_state=0, reg_alpha=0, reg_lambda=1,\n",
       "             scale_pos_weight=1, seed=42, silent=None, subsample=1,\n",
       "             tree_method='exact', validate_parameters=1, verbosity=0)"
      ]
     },
     "execution_count": 17,
     "metadata": {},
     "output_type": "execute_result"
    }
   ],
   "source": [
    "regressor.fit(Xtrain, ytrain, early_stopping_rounds=10, eval_metric='mae', eval_set=[(Xtest, ytest)])"
   ]
  },
  {
   "cell_type": "code",
   "execution_count": 18,
   "id": "e1c5e6c3",
   "metadata": {},
   "outputs": [],
   "source": [
    "ypred = regressor.predict(Xtest)"
   ]
  },
  {
   "cell_type": "markdown",
   "id": "181c01d4",
   "metadata": {},
   "source": [
    "## Evaluation Metrics"
   ]
  },
  {
   "cell_type": "code",
   "execution_count": 22,
   "id": "ad06f168",
   "metadata": {},
   "outputs": [
    {
     "name": "stdout",
     "output_type": "stream",
     "text": [
      "Mean Absolute Error:  11.35081652599979\n"
     ]
    }
   ],
   "source": [
    "from sklearn.metrics import mean_absolute_error\n",
    "print(\"Mean Absolute Error: \",mean_absolute_error(ytest,ypred))"
   ]
  },
  {
   "cell_type": "code",
   "execution_count": 24,
   "id": "5d65fa82",
   "metadata": {},
   "outputs": [
    {
     "name": "stdout",
     "output_type": "stream",
     "text": [
      "Mean Squared Error 200.62649705166396\n"
     ]
    }
   ],
   "source": [
    "from sklearn.metrics import mean_squared_error\n",
    "print(\"Mean Squared Error\",mean_squared_error(ytest,ypred))"
   ]
  },
  {
   "cell_type": "code",
   "execution_count": 25,
   "id": "606b32f6",
   "metadata": {},
   "outputs": [
    {
     "name": "stdout",
     "output_type": "stream",
     "text": [
      "Root MSE 14.164268320378005\n"
     ]
    }
   ],
   "source": [
    "print(\"Root MSE\",np.sqrt(mean_squared_error(ytest,ypred)))"
   ]
  },
  {
   "cell_type": "code",
   "execution_count": 26,
   "id": "647979a8",
   "metadata": {},
   "outputs": [
    {
     "name": "stdout",
     "output_type": "stream",
     "text": [
      "RMS Log Error 2.650722477898099\n"
     ]
    }
   ],
   "source": [
    "print(\"RMS Log Error\",np.log(np.sqrt(mean_squared_error(ytest,ypred))))"
   ]
  },
  {
   "cell_type": "code",
   "execution_count": 27,
   "id": "f9fa98c5",
   "metadata": {},
   "outputs": [
    {
     "name": "stdout",
     "output_type": "stream",
     "text": [
      "R Squared Error:  0.17200870885366737\n"
     ]
    }
   ],
   "source": [
    "from sklearn.metrics import r2_score\n",
    "r2 = r2_score(ytest,ypred)\n",
    "print(\"R Squared Error: \", r2)"
   ]
  },
  {
   "cell_type": "code",
   "execution_count": null,
   "id": "e9e06c1d",
   "metadata": {},
   "outputs": [],
   "source": []
  }
 ],
 "metadata": {
  "kernelspec": {
   "display_name": "Python 3",
   "language": "python",
   "name": "python3"
  },
  "language_info": {
   "codemirror_mode": {
    "name": "ipython",
    "version": 3
   },
   "file_extension": ".py",
   "mimetype": "text/x-python",
   "name": "python",
   "nbconvert_exporter": "python",
   "pygments_lexer": "ipython3",
   "version": "3.8.8"
  }
 },
 "nbformat": 4,
 "nbformat_minor": 5
}
